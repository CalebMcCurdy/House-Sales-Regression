{
 "cells": [
  {
   "cell_type": "markdown",
   "id": "52a0cd6b",
   "metadata": {},
   "source": [
    "### ADS500B\n",
    "##### Loza Mengitsu, Caleb McCurdy, Gabi Rivera"
   ]
  },
  {
   "cell_type": "code",
   "execution_count": 1,
   "id": "30340d68",
   "metadata": {},
   "outputs": [],
   "source": [
    "import numpy as np\n",
    "import pandas as pd\n",
    "import matplotlib as mpl\n",
    "import matplotlib.pyplot as plt\n",
    "import seaborn as sns\n",
    "import statsmodels.api as sma"
   ]
  },
  {
   "cell_type": "markdown",
   "id": "6c99e729",
   "metadata": {},
   "source": [
    "# House Sales Dataset "
   ]
  },
  {
   "cell_type": "markdown",
   "id": "c1c7e225",
   "metadata": {},
   "source": [
    "This final project studies the house sales dataset.<br>\n",
    "\n",
    "\n",
    "This dataset contains details of house sales in neighborhoods of King County, Washington. <br>\n",
    "It includes data for houses sold between May 2014 and May 2015.  <br>\n",
    "<br>\n",
    "Origin: Kaggle<br>\n",
    "File Type: CSV<br>\n",
    "File Size: 2.5 MB<br>\n",
    "Modeling Problem: Regression<br>\n",
    "Missing Values: Yes<br>\n",
    "<br>\n",
    "<br>\n",
    "Attributes:<br>\n",
    "id - a numerical identity field for each house sale<br>\n",
    "date - date when the house is sold<br>\n",
    "price - house sale price amount in US dollars (dependent variable)<br>\n",
    "bedrooms - number of bedrooms in the house<br>\n",
    "bathrooms - number of bathrooms in the house<br>\n",
    "sqft_living - living area in square feet<br>\n",
    "sqft_lot - total lot area in square feet<br>\n",
    "floors - number of floors in the house<br>\n",
    "waterfront - binary field, 1 if the house has a waterfront, 0 for no waterfront<br>\n",
    "view - binary field, 1 if the house has a view, 0 for no view<br>\n",
    "condition - a number denoting the condition of the house<br>\n",
    "grade - a number denoting the grade of the house<br>\n",
    "sqft_basement - area in square feet if the house has a basement<br>\n",
    "yr_built - in which year is the house built<br>\n",
    "yr_renovated - year when a house is renovated, 0 if not renovated<br>\n",
    "zipcode - house location zipcode in the county<br>\n",
    "lat - latitude cooridnate <br>\n",
    "long - longitude coordinate\n",
    "\n"
   ]
  },
  {
   "cell_type": "markdown",
   "id": "0defc725",
   "metadata": {},
   "source": [
    "## Data Pre-Processing"
   ]
  },
  {
   "cell_type": "markdown",
   "id": "451bc286",
   "metadata": {},
   "source": [
    "##### Import dataset and describe characteristics such as dimensions, data types, file types, and import methods used"
   ]
  },
  {
   "cell_type": "code",
   "execution_count": 2,
   "id": "22f8c874",
   "metadata": {
    "scrolled": true
   },
   "outputs": [
    {
     "data": {
      "text/html": [
       "<div>\n",
       "<style scoped>\n",
       "    .dataframe tbody tr th:only-of-type {\n",
       "        vertical-align: middle;\n",
       "    }\n",
       "\n",
       "    .dataframe tbody tr th {\n",
       "        vertical-align: top;\n",
       "    }\n",
       "\n",
       "    .dataframe thead th {\n",
       "        text-align: right;\n",
       "    }\n",
       "</style>\n",
       "<table border=\"1\" class=\"dataframe\">\n",
       "  <thead>\n",
       "    <tr style=\"text-align: right;\">\n",
       "      <th></th>\n",
       "      <th>id</th>\n",
       "      <th>date</th>\n",
       "      <th>price</th>\n",
       "      <th>bedrooms</th>\n",
       "      <th>bathrooms</th>\n",
       "      <th>sqft_living</th>\n",
       "      <th>sqft_lot</th>\n",
       "      <th>floors</th>\n",
       "      <th>waterfront</th>\n",
       "      <th>view</th>\n",
       "      <th>...</th>\n",
       "      <th>grade</th>\n",
       "      <th>sqft_above</th>\n",
       "      <th>sqft_basement</th>\n",
       "      <th>yr_built</th>\n",
       "      <th>yr_renovated</th>\n",
       "      <th>zipcode</th>\n",
       "      <th>lat</th>\n",
       "      <th>long</th>\n",
       "      <th>sqft_living15</th>\n",
       "      <th>sqft_lot15</th>\n",
       "    </tr>\n",
       "  </thead>\n",
       "  <tbody>\n",
       "    <tr>\n",
       "      <th>0</th>\n",
       "      <td>7129300520</td>\n",
       "      <td>20141013T000000</td>\n",
       "      <td>221900.0</td>\n",
       "      <td>3.0</td>\n",
       "      <td>1.00</td>\n",
       "      <td>1180.0</td>\n",
       "      <td>5650.0</td>\n",
       "      <td>1.0</td>\n",
       "      <td>0</td>\n",
       "      <td>0</td>\n",
       "      <td>...</td>\n",
       "      <td>7</td>\n",
       "      <td>1180</td>\n",
       "      <td>0</td>\n",
       "      <td>1955</td>\n",
       "      <td>0</td>\n",
       "      <td>98178</td>\n",
       "      <td>47.5112</td>\n",
       "      <td>-122.257</td>\n",
       "      <td>1340</td>\n",
       "      <td>5650</td>\n",
       "    </tr>\n",
       "    <tr>\n",
       "      <th>1</th>\n",
       "      <td>6414100192</td>\n",
       "      <td>20141209T000000</td>\n",
       "      <td>538000.0</td>\n",
       "      <td>3.0</td>\n",
       "      <td>2.25</td>\n",
       "      <td>2570.0</td>\n",
       "      <td>7242.0</td>\n",
       "      <td>2.0</td>\n",
       "      <td>0</td>\n",
       "      <td>0</td>\n",
       "      <td>...</td>\n",
       "      <td>7</td>\n",
       "      <td>2170</td>\n",
       "      <td>400</td>\n",
       "      <td>1951</td>\n",
       "      <td>1991</td>\n",
       "      <td>98125</td>\n",
       "      <td>47.7210</td>\n",
       "      <td>-122.319</td>\n",
       "      <td>1690</td>\n",
       "      <td>7639</td>\n",
       "    </tr>\n",
       "    <tr>\n",
       "      <th>2</th>\n",
       "      <td>5631500400</td>\n",
       "      <td>20150225T000000</td>\n",
       "      <td>180000.0</td>\n",
       "      <td>2.0</td>\n",
       "      <td>1.00</td>\n",
       "      <td>770.0</td>\n",
       "      <td>10000.0</td>\n",
       "      <td>1.0</td>\n",
       "      <td>0</td>\n",
       "      <td>0</td>\n",
       "      <td>...</td>\n",
       "      <td>6</td>\n",
       "      <td>770</td>\n",
       "      <td>0</td>\n",
       "      <td>1933</td>\n",
       "      <td>0</td>\n",
       "      <td>98028</td>\n",
       "      <td>47.7379</td>\n",
       "      <td>-122.233</td>\n",
       "      <td>2720</td>\n",
       "      <td>8062</td>\n",
       "    </tr>\n",
       "    <tr>\n",
       "      <th>3</th>\n",
       "      <td>2487200875</td>\n",
       "      <td>20141209T000000</td>\n",
       "      <td>604000.0</td>\n",
       "      <td>4.0</td>\n",
       "      <td>3.00</td>\n",
       "      <td>1960.0</td>\n",
       "      <td>5000.0</td>\n",
       "      <td>1.0</td>\n",
       "      <td>0</td>\n",
       "      <td>0</td>\n",
       "      <td>...</td>\n",
       "      <td>7</td>\n",
       "      <td>1050</td>\n",
       "      <td>910</td>\n",
       "      <td>1965</td>\n",
       "      <td>0</td>\n",
       "      <td>98136</td>\n",
       "      <td>47.5208</td>\n",
       "      <td>-122.393</td>\n",
       "      <td>1360</td>\n",
       "      <td>5000</td>\n",
       "    </tr>\n",
       "    <tr>\n",
       "      <th>4</th>\n",
       "      <td>1954400510</td>\n",
       "      <td>20150218T000000</td>\n",
       "      <td>510000.0</td>\n",
       "      <td>3.0</td>\n",
       "      <td>2.00</td>\n",
       "      <td>1680.0</td>\n",
       "      <td>8080.0</td>\n",
       "      <td>1.0</td>\n",
       "      <td>0</td>\n",
       "      <td>0</td>\n",
       "      <td>...</td>\n",
       "      <td>8</td>\n",
       "      <td>1680</td>\n",
       "      <td>0</td>\n",
       "      <td>1987</td>\n",
       "      <td>0</td>\n",
       "      <td>98074</td>\n",
       "      <td>47.6168</td>\n",
       "      <td>-122.045</td>\n",
       "      <td>1800</td>\n",
       "      <td>7503</td>\n",
       "    </tr>\n",
       "  </tbody>\n",
       "</table>\n",
       "<p>5 rows × 21 columns</p>\n",
       "</div>"
      ],
      "text/plain": [
       "           id             date     price  bedrooms  bathrooms  sqft_living  \\\n",
       "0  7129300520  20141013T000000  221900.0       3.0       1.00       1180.0   \n",
       "1  6414100192  20141209T000000  538000.0       3.0       2.25       2570.0   \n",
       "2  5631500400  20150225T000000  180000.0       2.0       1.00        770.0   \n",
       "3  2487200875  20141209T000000  604000.0       4.0       3.00       1960.0   \n",
       "4  1954400510  20150218T000000  510000.0       3.0       2.00       1680.0   \n",
       "\n",
       "   sqft_lot  floors  waterfront  view  ...  grade  sqft_above  sqft_basement  \\\n",
       "0    5650.0     1.0           0     0  ...      7        1180              0   \n",
       "1    7242.0     2.0           0     0  ...      7        2170            400   \n",
       "2   10000.0     1.0           0     0  ...      6         770              0   \n",
       "3    5000.0     1.0           0     0  ...      7        1050            910   \n",
       "4    8080.0     1.0           0     0  ...      8        1680              0   \n",
       "\n",
       "   yr_built  yr_renovated  zipcode      lat     long  sqft_living15  \\\n",
       "0      1955             0    98178  47.5112 -122.257           1340   \n",
       "1      1951          1991    98125  47.7210 -122.319           1690   \n",
       "2      1933             0    98028  47.7379 -122.233           2720   \n",
       "3      1965             0    98136  47.5208 -122.393           1360   \n",
       "4      1987             0    98074  47.6168 -122.045           1800   \n",
       "\n",
       "   sqft_lot15  \n",
       "0        5650  \n",
       "1        7639  \n",
       "2        8062  \n",
       "3        5000  \n",
       "4        7503  \n",
       "\n",
       "[5 rows x 21 columns]"
      ]
     },
     "execution_count": 2,
     "metadata": {},
     "output_type": "execute_result"
    }
   ],
   "source": [
    "houseSales = pd.read_csv('house_sales.csv')\n",
    "houseSales.head()"
   ]
  },
  {
   "cell_type": "markdown",
   "id": "eca8bebb",
   "metadata": {},
   "source": [
    "The following command helps us have an overview of the type of data we have available. We have 21 columns (for now) and 21613 observations. We use this to know what kind of processing we might need to do. For example, the date column as a type object, therefore we will not do numerical operations on this column without prior transformation. Other columns are either of continuous type (float64) or discrete (int64). \n",
    "\n",
    "A useful information to extract is that some of the continuous variables should instead be categorical variables, which we can double check using the dataset documentation (readme file)."
   ]
  },
  {
   "cell_type": "code",
   "execution_count": 3,
   "id": "ed5aee4b",
   "metadata": {
    "scrolled": true
   },
   "outputs": [
    {
     "name": "stdout",
     "output_type": "stream",
     "text": [
      "<class 'pandas.core.frame.DataFrame'>\n",
      "RangeIndex: 21613 entries, 0 to 21612\n",
      "Data columns (total 21 columns):\n",
      " #   Column         Non-Null Count  Dtype  \n",
      "---  ------         --------------  -----  \n",
      " 0   id             21613 non-null  int64  \n",
      " 1   date           21613 non-null  object \n",
      " 2   price          21613 non-null  float64\n",
      " 3   bedrooms       20479 non-null  float64\n",
      " 4   bathrooms      20545 non-null  float64\n",
      " 5   sqft_living    20503 non-null  float64\n",
      " 6   sqft_lot       20569 non-null  float64\n",
      " 7   floors         21613 non-null  float64\n",
      " 8   waterfront     21613 non-null  int64  \n",
      " 9   view           21613 non-null  int64  \n",
      " 10  condition      21613 non-null  int64  \n",
      " 11  grade          21613 non-null  int64  \n",
      " 12  sqft_above     21613 non-null  int64  \n",
      " 13  sqft_basement  21613 non-null  int64  \n",
      " 14  yr_built       21613 non-null  int64  \n",
      " 15  yr_renovated   21613 non-null  int64  \n",
      " 16  zipcode        21613 non-null  int64  \n",
      " 17  lat            21613 non-null  float64\n",
      " 18  long           21613 non-null  float64\n",
      " 19  sqft_living15  21613 non-null  int64  \n",
      " 20  sqft_lot15     21613 non-null  int64  \n",
      "dtypes: float64(8), int64(12), object(1)\n",
      "memory usage: 3.5+ MB\n"
     ]
    }
   ],
   "source": [
    "houseSales.info() "
   ]
  },
  {
   "cell_type": "markdown",
   "id": "39492168",
   "metadata": {},
   "source": [
    "##### Clean, wrangle, and handle missing data"
   ]
  },
  {
   "cell_type": "markdown",
   "id": "50832e83",
   "metadata": {},
   "source": [
    "The following gives us the number of missing values for each column. We will have to address these columns by either replacing missing values or ignoring them and removing them from the dataset."
   ]
  },
  {
   "cell_type": "code",
   "execution_count": 4,
   "id": "6fb577d6",
   "metadata": {
    "scrolled": false
   },
   "outputs": [
    {
     "data": {
      "text/plain": [
       "id                  0\n",
       "date                0\n",
       "price               0\n",
       "bedrooms         1134\n",
       "bathrooms        1068\n",
       "sqft_living      1110\n",
       "sqft_lot         1044\n",
       "floors              0\n",
       "waterfront          0\n",
       "view                0\n",
       "condition           0\n",
       "grade               0\n",
       "sqft_above          0\n",
       "sqft_basement       0\n",
       "yr_built            0\n",
       "yr_renovated        0\n",
       "zipcode             0\n",
       "lat                 0\n",
       "long                0\n",
       "sqft_living15       0\n",
       "sqft_lot15          0\n",
       "dtype: int64"
      ]
     },
     "execution_count": 4,
     "metadata": {},
     "output_type": "execute_result"
    }
   ],
   "source": [
    "houseSales.isnull().sum()"
   ]
  },
  {
   "cell_type": "markdown",
   "id": "6008f5b2",
   "metadata": {},
   "source": [
    "There is missing data in 4 columns. More specifically, we are missing values in the 'bedrooms', 'bathrooms', 'sqft_living', and 'sqft_lot' columns."
   ]
  },
  {
   "cell_type": "code",
   "execution_count": 5,
   "id": "80dc188e",
   "metadata": {},
   "outputs": [
    {
     "name": "stdout",
     "output_type": "stream",
     "text": [
      "If we ignore observations with at least 1 missing value, we lose 18.48% of data.\n"
     ]
    }
   ],
   "source": [
    "lossDropna = 1 - houseSales.dropna().shape[0] / houseSales.shape[0]\n",
    "print(f\"If we ignore observations with at least 1 missing value, we lose {round(100*lossDropna, 2)}% of data.\")"
   ]
  },
  {
   "cell_type": "markdown",
   "id": "abce3fc2",
   "metadata": {},
   "source": [
    "Since ignoring observations with missing data results in a loss of almost 20% of the data, we will rather replace the missing values. Further, these are all numerical variable suggesting that a replacement is the better plan. We will look at the distribution of the 4 concerned variables to decide how."
   ]
  },
  {
   "cell_type": "code",
   "execution_count": 6,
   "id": "bef8e308",
   "metadata": {},
   "outputs": [
    {
     "data": {
      "text/html": [
       "<div>\n",
       "<style scoped>\n",
       "    .dataframe tbody tr th:only-of-type {\n",
       "        vertical-align: middle;\n",
       "    }\n",
       "\n",
       "    .dataframe tbody tr th {\n",
       "        vertical-align: top;\n",
       "    }\n",
       "\n",
       "    .dataframe thead th {\n",
       "        text-align: right;\n",
       "    }\n",
       "</style>\n",
       "<table border=\"1\" class=\"dataframe\">\n",
       "  <thead>\n",
       "    <tr style=\"text-align: right;\">\n",
       "      <th></th>\n",
       "      <th>bedrooms</th>\n",
       "      <th>bathrooms</th>\n",
       "      <th>sqft_living</th>\n",
       "      <th>sqft_lot</th>\n",
       "    </tr>\n",
       "  </thead>\n",
       "  <tbody>\n",
       "    <tr>\n",
       "      <th>count</th>\n",
       "      <td>20479.00</td>\n",
       "      <td>20545.00</td>\n",
       "      <td>20503.00</td>\n",
       "      <td>20569.00</td>\n",
       "    </tr>\n",
       "    <tr>\n",
       "      <th>mean</th>\n",
       "      <td>3.37</td>\n",
       "      <td>2.11</td>\n",
       "      <td>2081.07</td>\n",
       "      <td>15179.82</td>\n",
       "    </tr>\n",
       "    <tr>\n",
       "      <th>std</th>\n",
       "      <td>0.93</td>\n",
       "      <td>0.77</td>\n",
       "      <td>915.04</td>\n",
       "      <td>41486.17</td>\n",
       "    </tr>\n",
       "    <tr>\n",
       "      <th>min</th>\n",
       "      <td>0.00</td>\n",
       "      <td>0.00</td>\n",
       "      <td>290.00</td>\n",
       "      <td>520.00</td>\n",
       "    </tr>\n",
       "    <tr>\n",
       "      <th>25%</th>\n",
       "      <td>3.00</td>\n",
       "      <td>1.50</td>\n",
       "      <td>1430.00</td>\n",
       "      <td>5040.00</td>\n",
       "    </tr>\n",
       "    <tr>\n",
       "      <th>50%</th>\n",
       "      <td>3.00</td>\n",
       "      <td>2.25</td>\n",
       "      <td>1920.00</td>\n",
       "      <td>7620.00</td>\n",
       "    </tr>\n",
       "    <tr>\n",
       "      <th>75%</th>\n",
       "      <td>4.00</td>\n",
       "      <td>2.50</td>\n",
       "      <td>2550.00</td>\n",
       "      <td>10708.00</td>\n",
       "    </tr>\n",
       "    <tr>\n",
       "      <th>max</th>\n",
       "      <td>33.00</td>\n",
       "      <td>8.00</td>\n",
       "      <td>12050.00</td>\n",
       "      <td>1651359.00</td>\n",
       "    </tr>\n",
       "  </tbody>\n",
       "</table>\n",
       "</div>"
      ],
      "text/plain": [
       "       bedrooms  bathrooms  sqft_living    sqft_lot\n",
       "count  20479.00   20545.00     20503.00    20569.00\n",
       "mean       3.37       2.11      2081.07    15179.82\n",
       "std        0.93       0.77       915.04    41486.17\n",
       "min        0.00       0.00       290.00      520.00\n",
       "25%        3.00       1.50      1430.00     5040.00\n",
       "50%        3.00       2.25      1920.00     7620.00\n",
       "75%        4.00       2.50      2550.00    10708.00\n",
       "max       33.00       8.00     12050.00  1651359.00"
      ]
     },
     "execution_count": 6,
     "metadata": {},
     "output_type": "execute_result"
    }
   ],
   "source": [
    "houseSales.loc[:,['bedrooms', 'bathrooms', 'sqft_living', 'sqft_lot']].describe().round(decimals = 2)"
   ]
  },
  {
   "cell_type": "code",
   "execution_count": 7,
   "id": "78952532",
   "metadata": {
    "scrolled": false
   },
   "outputs": [
    {
     "data": {
      "image/png": "[encoded data removed]",
      "text/plain": [
       "<Figure size 936x792 with 4 Axes>"
      ]
     },
     "metadata": {
      "needs_background": "light"
     },
     "output_type": "display_data"
    }
   ],
   "source": [
    "fig, axes = plt.subplots(2, 2, figsize=(13, 11))\n",
    "sns.boxplot(ax=axes[0, 1], data=houseSales[\"bathrooms\"]);\n",
    "axes[0, 1].set_title(\"Boxplot of bathrooms\")\n",
    "sns.boxplot(ax=axes[0, 0], data=houseSales[\"bedrooms\"]);\n",
    "axes[0, 0].set_title(\"Boxplot of bedrooms\")\n",
    "sns.boxplot(ax=axes[1, 1], data=houseSales[\"sqft_living\"]);\n",
    "axes[1, 1].set_title(\" Boxplot of sqft_living\")\n",
    "sns.boxplot(ax=axes[1, 0], data=houseSales[\"sqft_lot\"]);\n",
    "axes[1, 0].set_title(\"Boxplot of sqft_lot\")\n",
    "plt.show()"
   ]
  },
  {
   "cell_type": "code",
   "execution_count": 8,
   "id": "8219cc1f",
   "metadata": {},
   "outputs": [
    {
     "data": {
      "text/plain": [
       "array([[<AxesSubplot:title={'center':'bedrooms'}>,\n",
       "        <AxesSubplot:title={'center':'bathrooms'}>],\n",
       "       [<AxesSubplot:title={'center':'sqft_living'}>,\n",
       "        <AxesSubplot:title={'center':'sqft_lot'}>]], dtype=object)"
      ]
     },
     "execution_count": 8,
     "metadata": {},
     "output_type": "execute_result"
    },
    {
     "data": {
      "image/png": "[encoded data removed]",
      "text/plain": [
       "<Figure size 864x720 with 4 Axes>"
      ]
     },
     "metadata": {
      "needs_background": "light"
     },
     "output_type": "display_data"
    }
   ],
   "source": [
    "houseSales.loc[:,['bedrooms', 'bathrooms', 'sqft_living', 'sqft_lot']].hist(bins=100, figsize = (12,10))"
   ]
  },
  {
   "cell_type": "markdown",
   "id": "fb6df1f5",
   "metadata": {},
   "source": [
    "Given the distributions above, we expect that the mean of these variables will be distorted by the presence of outliers and their skewness, in particular for sqft_lot. Therefore we will replace missing values of each column by their respective medians."
   ]
  },
  {
   "cell_type": "code",
   "execution_count": 9,
   "id": "c97f7a29",
   "metadata": {},
   "outputs": [],
   "source": [
    "houseSales['bedrooms'].fillna(houseSales['bedrooms'].median(), inplace=True)\n",
    "houseSales['bathrooms'].fillna(houseSales['bathrooms'].median(), inplace=True)\n",
    "houseSales['sqft_living'].fillna(houseSales['sqft_living'].median(), inplace=True)\n",
    "houseSales['sqft_lot'].fillna(houseSales['sqft_lot'].median(), inplace=True)"
   ]
  },
  {
   "cell_type": "code",
   "execution_count": 10,
   "id": "9b91f9ed",
   "metadata": {},
   "outputs": [
    {
     "name": "stdout",
     "output_type": "stream",
     "text": [
      "<class 'pandas.core.frame.DataFrame'>\n",
      "RangeIndex: 21613 entries, 0 to 21612\n",
      "Data columns (total 21 columns):\n",
      " #   Column         Non-Null Count  Dtype  \n",
      "---  ------         --------------  -----  \n",
      " 0   id             21613 non-null  int64  \n",
      " 1   date           21613 non-null  object \n",
      " 2   price          21613 non-null  float64\n",
      " 3   bedrooms       21613 non-null  float64\n",
      " 4   bathrooms      21613 non-null  float64\n",
      " 5   sqft_living    21613 non-null  float64\n",
      " 6   sqft_lot       21613 non-null  float64\n",
      " 7   floors         21613 non-null  float64\n",
      " 8   waterfront     21613 non-null  int64  \n",
      " 9   view           21613 non-null  int64  \n",
      " 10  condition      21613 non-null  int64  \n",
      " 11  grade          21613 non-null  int64  \n",
      " 12  sqft_above     21613 non-null  int64  \n",
      " 13  sqft_basement  21613 non-null  int64  \n",
      " 14  yr_built       21613 non-null  int64  \n",
      " 15  yr_renovated   21613 non-null  int64  \n",
      " 16  zipcode        21613 non-null  int64  \n",
      " 17  lat            21613 non-null  float64\n",
      " 18  long           21613 non-null  float64\n",
      " 19  sqft_living15  21613 non-null  int64  \n",
      " 20  sqft_lot15     21613 non-null  int64  \n",
      "dtypes: float64(8), int64(12), object(1)\n",
      "memory usage: 3.5+ MB\n"
     ]
    }
   ],
   "source": [
    "houseSales.info() "
   ]
  },
  {
   "cell_type": "markdown",
   "id": "40c3e344",
   "metadata": {},
   "source": [
    "##### Transform data appropriately using techniques such as aggregation, normalization, and feature construction"
   ]
  },
  {
   "cell_type": "markdown",
   "id": "02eb5228",
   "metadata": {},
   "source": [
    "New variables created: isRenovated, houseAge, zip4, and sqft_yard"
   ]
  },
  {
   "cell_type": "code",
   "execution_count": 11,
   "id": "8d43bffb",
   "metadata": {},
   "outputs": [],
   "source": [
    "houseSales['isRenovated'] = 1 * (houseSales['yr_renovated'] > 0)"
   ]
  },
  {
   "cell_type": "markdown",
   "id": "22c4a943",
   "metadata": {},
   "source": [
    "yr_renovated is equal to the year during which the house was renovated and 0 if the house was never renovated. We transform it into a binary variable indicating if the house was renovated."
   ]
  },
  {
   "cell_type": "code",
   "execution_count": 12,
   "id": "fef4c080",
   "metadata": {},
   "outputs": [],
   "source": [
    "houseSales['houseAge'] = 2015 - houseSales['yr_built']"
   ]
  },
  {
   "cell_type": "markdown",
   "id": "e82b970f",
   "metadata": {},
   "source": [
    "Using the construction date of the house, we create a variable giving the age of the house, in years, in 2015."
   ]
  },
  {
   "cell_type": "code",
   "execution_count": 13,
   "id": "b25f17e1",
   "metadata": {},
   "outputs": [],
   "source": [
    "houseSales['zip4']=houseSales['zipcode'].apply(\n",
    "    lambda x:str(x)[:4]) "
   ]
  },
  {
   "cell_type": "markdown",
   "id": "14264dde",
   "metadata": {},
   "source": [
    "A zipcode is made of 5 digits and corresponds to a geographical area. Since there is a large number of zipcodes we process it to reduce the number of different values.\n",
    "Considering the first 4 digits of a zipcode also gives a geographical area, but larger than the original one. We call this variable zip4."
   ]
  },
  {
   "cell_type": "code",
   "execution_count": 14,
   "id": "bc117842",
   "metadata": {},
   "outputs": [],
   "source": [
    "houseSales['sqft_yard'] = houseSales['sqft_lot'] - houseSales['sqft_living']"
   ]
  },
  {
   "cell_type": "markdown",
   "id": "73915d40",
   "metadata": {},
   "source": [
    "Using the values of sqft_lot and sqft_living, we create another attribute that gives the area of land for each property which is not consumed by the house."
   ]
  },
  {
   "cell_type": "markdown",
   "id": "35b30cd0",
   "metadata": {},
   "source": [
    "##### Reduce redundant data and perform need based discretization"
   ]
  },
  {
   "cell_type": "markdown",
   "id": "ae3a39e2",
   "metadata": {},
   "source": [
    "Because 'sqft_living15' and 'sqft_lot15' seem like redundant data, we decided to drop these columns in our dataset."
   ]
  },
  {
   "cell_type": "code",
   "execution_count": 15,
   "id": "d8e0f551",
   "metadata": {},
   "outputs": [
    {
     "data": {
      "text/html": [
       "<div>\n",
       "<style scoped>\n",
       "    .dataframe tbody tr th:only-of-type {\n",
       "        vertical-align: middle;\n",
       "    }\n",
       "\n",
       "    .dataframe tbody tr th {\n",
       "        vertical-align: top;\n",
       "    }\n",
       "\n",
       "    .dataframe thead th {\n",
       "        text-align: right;\n",
       "    }\n",
       "</style>\n",
       "<table border=\"1\" class=\"dataframe\">\n",
       "  <thead>\n",
       "    <tr style=\"text-align: right;\">\n",
       "      <th></th>\n",
       "      <th>id</th>\n",
       "      <th>date</th>\n",
       "      <th>price</th>\n",
       "      <th>bedrooms</th>\n",
       "      <th>bathrooms</th>\n",
       "      <th>sqft_living</th>\n",
       "      <th>sqft_lot</th>\n",
       "      <th>floors</th>\n",
       "      <th>waterfront</th>\n",
       "      <th>view</th>\n",
       "      <th>...</th>\n",
       "      <th>sqft_basement</th>\n",
       "      <th>yr_built</th>\n",
       "      <th>yr_renovated</th>\n",
       "      <th>zipcode</th>\n",
       "      <th>lat</th>\n",
       "      <th>long</th>\n",
       "      <th>isRenovated</th>\n",
       "      <th>houseAge</th>\n",
       "      <th>zip4</th>\n",
       "      <th>sqft_yard</th>\n",
       "    </tr>\n",
       "  </thead>\n",
       "  <tbody>\n",
       "    <tr>\n",
       "      <th>0</th>\n",
       "      <td>7129300520</td>\n",
       "      <td>20141013T000000</td>\n",
       "      <td>221900.0</td>\n",
       "      <td>3.0</td>\n",
       "      <td>1.00</td>\n",
       "      <td>1180.0</td>\n",
       "      <td>5650.0</td>\n",
       "      <td>1.0</td>\n",
       "      <td>0</td>\n",
       "      <td>0</td>\n",
       "      <td>...</td>\n",
       "      <td>0</td>\n",
       "      <td>1955</td>\n",
       "      <td>0</td>\n",
       "      <td>98178</td>\n",
       "      <td>47.5112</td>\n",
       "      <td>-122.257</td>\n",
       "      <td>0</td>\n",
       "      <td>60</td>\n",
       "      <td>9817</td>\n",
       "      <td>4470.0</td>\n",
       "    </tr>\n",
       "    <tr>\n",
       "      <th>1</th>\n",
       "      <td>6414100192</td>\n",
       "      <td>20141209T000000</td>\n",
       "      <td>538000.0</td>\n",
       "      <td>3.0</td>\n",
       "      <td>2.25</td>\n",
       "      <td>2570.0</td>\n",
       "      <td>7242.0</td>\n",
       "      <td>2.0</td>\n",
       "      <td>0</td>\n",
       "      <td>0</td>\n",
       "      <td>...</td>\n",
       "      <td>400</td>\n",
       "      <td>1951</td>\n",
       "      <td>1991</td>\n",
       "      <td>98125</td>\n",
       "      <td>47.7210</td>\n",
       "      <td>-122.319</td>\n",
       "      <td>1</td>\n",
       "      <td>64</td>\n",
       "      <td>9812</td>\n",
       "      <td>4672.0</td>\n",
       "    </tr>\n",
       "    <tr>\n",
       "      <th>2</th>\n",
       "      <td>5631500400</td>\n",
       "      <td>20150225T000000</td>\n",
       "      <td>180000.0</td>\n",
       "      <td>2.0</td>\n",
       "      <td>1.00</td>\n",
       "      <td>770.0</td>\n",
       "      <td>10000.0</td>\n",
       "      <td>1.0</td>\n",
       "      <td>0</td>\n",
       "      <td>0</td>\n",
       "      <td>...</td>\n",
       "      <td>0</td>\n",
       "      <td>1933</td>\n",
       "      <td>0</td>\n",
       "      <td>98028</td>\n",
       "      <td>47.7379</td>\n",
       "      <td>-122.233</td>\n",
       "      <td>0</td>\n",
       "      <td>82</td>\n",
       "      <td>9802</td>\n",
       "      <td>9230.0</td>\n",
       "    </tr>\n",
       "    <tr>\n",
       "      <th>3</th>\n",
       "      <td>2487200875</td>\n",
       "      <td>20141209T000000</td>\n",
       "      <td>604000.0</td>\n",
       "      <td>4.0</td>\n",
       "      <td>3.00</td>\n",
       "      <td>1960.0</td>\n",
       "      <td>5000.0</td>\n",
       "      <td>1.0</td>\n",
       "      <td>0</td>\n",
       "      <td>0</td>\n",
       "      <td>...</td>\n",
       "      <td>910</td>\n",
       "      <td>1965</td>\n",
       "      <td>0</td>\n",
       "      <td>98136</td>\n",
       "      <td>47.5208</td>\n",
       "      <td>-122.393</td>\n",
       "      <td>0</td>\n",
       "      <td>50</td>\n",
       "      <td>9813</td>\n",
       "      <td>3040.0</td>\n",
       "    </tr>\n",
       "    <tr>\n",
       "      <th>4</th>\n",
       "      <td>1954400510</td>\n",
       "      <td>20150218T000000</td>\n",
       "      <td>510000.0</td>\n",
       "      <td>3.0</td>\n",
       "      <td>2.00</td>\n",
       "      <td>1680.0</td>\n",
       "      <td>8080.0</td>\n",
       "      <td>1.0</td>\n",
       "      <td>0</td>\n",
       "      <td>0</td>\n",
       "      <td>...</td>\n",
       "      <td>0</td>\n",
       "      <td>1987</td>\n",
       "      <td>0</td>\n",
       "      <td>98074</td>\n",
       "      <td>47.6168</td>\n",
       "      <td>-122.045</td>\n",
       "      <td>0</td>\n",
       "      <td>28</td>\n",
       "      <td>9807</td>\n",
       "      <td>6400.0</td>\n",
       "    </tr>\n",
       "  </tbody>\n",
       "</table>\n",
       "<p>5 rows × 23 columns</p>\n",
       "</div>"
      ],
      "text/plain": [
       "           id             date     price  bedrooms  bathrooms  sqft_living  \\\n",
       "0  7129300520  20141013T000000  221900.0       3.0       1.00       1180.0   \n",
       "1  6414100192  20141209T000000  538000.0       3.0       2.25       2570.0   \n",
       "2  5631500400  20150225T000000  180000.0       2.0       1.00        770.0   \n",
       "3  2487200875  20141209T000000  604000.0       4.0       3.00       1960.0   \n",
       "4  1954400510  20150218T000000  510000.0       3.0       2.00       1680.0   \n",
       "\n",
       "   sqft_lot  floors  waterfront  view  ...  sqft_basement  yr_built  \\\n",
       "0    5650.0     1.0           0     0  ...              0      1955   \n",
       "1    7242.0     2.0           0     0  ...            400      1951   \n",
       "2   10000.0     1.0           0     0  ...              0      1933   \n",
       "3    5000.0     1.0           0     0  ...            910      1965   \n",
       "4    8080.0     1.0           0     0  ...              0      1987   \n",
       "\n",
       "   yr_renovated  zipcode      lat     long  isRenovated  houseAge  zip4  \\\n",
       "0             0    98178  47.5112 -122.257            0        60  9817   \n",
       "1          1991    98125  47.7210 -122.319            1        64  9812   \n",
       "2             0    98028  47.7379 -122.233            0        82  9802   \n",
       "3             0    98136  47.5208 -122.393            0        50  9813   \n",
       "4             0    98074  47.6168 -122.045            0        28  9807   \n",
       "\n",
       "   sqft_yard  \n",
       "0     4470.0  \n",
       "1     4672.0  \n",
       "2     9230.0  \n",
       "3     3040.0  \n",
       "4     6400.0  \n",
       "\n",
       "[5 rows x 23 columns]"
      ]
     },
     "execution_count": 15,
     "metadata": {},
     "output_type": "execute_result"
    }
   ],
   "source": [
    "houseSales = houseSales.drop('sqft_living15', axis=1)\n",
    "houseSales = houseSales.drop('sqft_lot15', axis=1)\n",
    "\n",
    "houseSales.head()"
   ]
  },
  {
   "cell_type": "markdown",
   "id": "2aba27e8",
   "metadata": {},
   "source": [
    "## Data Analysis and Visualization"
   ]
  },
  {
   "cell_type": "markdown",
   "id": "a6ebb162",
   "metadata": {},
   "source": [
    "##### Identify categorical, ordinal, and numerical variables within data"
   ]
  },
  {
   "cell_type": "markdown",
   "id": "2e5af19a",
   "metadata": {},
   "source": [
    "We, once again, display the datatypes of each variable."
   ]
  },
  {
   "cell_type": "code",
   "execution_count": 16,
   "id": "010cfd19",
   "metadata": {},
   "outputs": [
    {
     "data": {
      "text/plain": [
       "id                 int64\n",
       "date              object\n",
       "price            float64\n",
       "bedrooms         float64\n",
       "bathrooms        float64\n",
       "sqft_living      float64\n",
       "sqft_lot         float64\n",
       "floors           float64\n",
       "waterfront         int64\n",
       "view               int64\n",
       "condition          int64\n",
       "grade              int64\n",
       "sqft_above         int64\n",
       "sqft_basement      int64\n",
       "yr_built           int64\n",
       "yr_renovated       int64\n",
       "zipcode            int64\n",
       "lat              float64\n",
       "long             float64\n",
       "isRenovated        int64\n",
       "houseAge           int64\n",
       "zip4              object\n",
       "sqft_yard        float64\n",
       "dtype: object"
      ]
     },
     "execution_count": 16,
     "metadata": {},
     "output_type": "execute_result"
    }
   ],
   "source": [
    "houseSales.dtypes"
   ]
  },
  {
   "cell_type": "markdown",
   "id": "2c72f257",
   "metadata": {},
   "source": [
    "We change the attributes, if needed, into their correct data type."
   ]
  },
  {
   "cell_type": "code",
   "execution_count": 17,
   "id": "55bc59ab",
   "metadata": {
    "scrolled": true
   },
   "outputs": [
    {
     "data": {
      "text/plain": [
       "id                     category\n",
       "date             datetime64[ns]\n",
       "price                   float64\n",
       "bedrooms                float64\n",
       "bathrooms               float64\n",
       "sqft_living             float64\n",
       "sqft_lot                float64\n",
       "floors                  float64\n",
       "waterfront             category\n",
       "view                   category\n",
       "condition              category\n",
       "grade                  category\n",
       "sqft_above                int64\n",
       "sqft_basement             int64\n",
       "yr_built                 object\n",
       "yr_renovated             object\n",
       "zipcode                category\n",
       "lat                     float64\n",
       "long                    float64\n",
       "isRenovated            category\n",
       "houseAge                  int64\n",
       "zip4                   category\n",
       "sqft_yard               float64\n",
       "dtype: object"
      ]
     },
     "execution_count": 17,
     "metadata": {},
     "output_type": "execute_result"
    }
   ],
   "source": [
    "houseSales['id'] = houseSales['id'].astype('category')\n",
    "houseSales['date'] = houseSales['date'].astype('datetime64[ns]')\n",
    "houseSales['waterfront'] = houseSales['waterfront'].astype('category')\n",
    "houseSales['view'] = houseSales['view'].astype('category')\n",
    "houseSales['condition'] = houseSales['condition'].astype('category')\n",
    "houseSales['grade'] = houseSales['grade'].astype('category')\n",
    "houseSales['yr_built'] = houseSales['yr_built'].astype('object')\n",
    "houseSales['yr_renovated'] = houseSales['yr_renovated'].astype('object')\n",
    "houseSales['zipcode'] = houseSales['zipcode'].astype('category')\n",
    "houseSales['isRenovated'] = houseSales['isRenovated'].astype('category')\n",
    "houseSales['zip4'] = houseSales['zip4'].astype('category')\n",
    "\n",
    "houseSales.dtypes"
   ]
  },
  {
   "cell_type": "code",
   "execution_count": 18,
   "id": "cf9fc7ef",
   "metadata": {},
   "outputs": [
    {
     "data": {
      "text/html": [
       "<div>\n",
       "<style scoped>\n",
       "    .dataframe tbody tr th:only-of-type {\n",
       "        vertical-align: middle;\n",
       "    }\n",
       "\n",
       "    .dataframe tbody tr th {\n",
       "        vertical-align: top;\n",
       "    }\n",
       "\n",
       "    .dataframe thead th {\n",
       "        text-align: right;\n",
       "    }\n",
       "</style>\n",
       "<table border=\"1\" class=\"dataframe\">\n",
       "  <thead>\n",
       "    <tr style=\"text-align: right;\">\n",
       "      <th></th>\n",
       "      <th>id</th>\n",
       "      <th>date</th>\n",
       "      <th>price</th>\n",
       "      <th>bedrooms</th>\n",
       "      <th>bathrooms</th>\n",
       "      <th>sqft_living</th>\n",
       "      <th>sqft_lot</th>\n",
       "      <th>floors</th>\n",
       "      <th>waterfront</th>\n",
       "      <th>view</th>\n",
       "      <th>...</th>\n",
       "      <th>sqft_basement</th>\n",
       "      <th>yr_built</th>\n",
       "      <th>yr_renovated</th>\n",
       "      <th>zipcode</th>\n",
       "      <th>lat</th>\n",
       "      <th>long</th>\n",
       "      <th>isRenovated</th>\n",
       "      <th>houseAge</th>\n",
       "      <th>zip4</th>\n",
       "      <th>sqft_yard</th>\n",
       "    </tr>\n",
       "  </thead>\n",
       "  <tbody>\n",
       "    <tr>\n",
       "      <th>0</th>\n",
       "      <td>7129300520</td>\n",
       "      <td>2014-10-13</td>\n",
       "      <td>221900.0</td>\n",
       "      <td>3.0</td>\n",
       "      <td>1.00</td>\n",
       "      <td>1180.0</td>\n",
       "      <td>5650.0</td>\n",
       "      <td>1.0</td>\n",
       "      <td>0</td>\n",
       "      <td>0</td>\n",
       "      <td>...</td>\n",
       "      <td>0</td>\n",
       "      <td>1955</td>\n",
       "      <td>0</td>\n",
       "      <td>98178</td>\n",
       "      <td>47.5112</td>\n",
       "      <td>-122.257</td>\n",
       "      <td>0</td>\n",
       "      <td>60</td>\n",
       "      <td>9817</td>\n",
       "      <td>4470.0</td>\n",
       "    </tr>\n",
       "    <tr>\n",
       "      <th>1</th>\n",
       "      <td>6414100192</td>\n",
       "      <td>2014-12-09</td>\n",
       "      <td>538000.0</td>\n",
       "      <td>3.0</td>\n",
       "      <td>2.25</td>\n",
       "      <td>2570.0</td>\n",
       "      <td>7242.0</td>\n",
       "      <td>2.0</td>\n",
       "      <td>0</td>\n",
       "      <td>0</td>\n",
       "      <td>...</td>\n",
       "      <td>400</td>\n",
       "      <td>1951</td>\n",
       "      <td>1991</td>\n",
       "      <td>98125</td>\n",
       "      <td>47.7210</td>\n",
       "      <td>-122.319</td>\n",
       "      <td>1</td>\n",
       "      <td>64</td>\n",
       "      <td>9812</td>\n",
       "      <td>4672.0</td>\n",
       "    </tr>\n",
       "    <tr>\n",
       "      <th>2</th>\n",
       "      <td>5631500400</td>\n",
       "      <td>2015-02-25</td>\n",
       "      <td>180000.0</td>\n",
       "      <td>2.0</td>\n",
       "      <td>1.00</td>\n",
       "      <td>770.0</td>\n",
       "      <td>10000.0</td>\n",
       "      <td>1.0</td>\n",
       "      <td>0</td>\n",
       "      <td>0</td>\n",
       "      <td>...</td>\n",
       "      <td>0</td>\n",
       "      <td>1933</td>\n",
       "      <td>0</td>\n",
       "      <td>98028</td>\n",
       "      <td>47.7379</td>\n",
       "      <td>-122.233</td>\n",
       "      <td>0</td>\n",
       "      <td>82</td>\n",
       "      <td>9802</td>\n",
       "      <td>9230.0</td>\n",
       "    </tr>\n",
       "    <tr>\n",
       "      <th>3</th>\n",
       "      <td>2487200875</td>\n",
       "      <td>2014-12-09</td>\n",
       "      <td>604000.0</td>\n",
       "      <td>4.0</td>\n",
       "      <td>3.00</td>\n",
       "      <td>1960.0</td>\n",
       "      <td>5000.0</td>\n",
       "      <td>1.0</td>\n",
       "      <td>0</td>\n",
       "      <td>0</td>\n",
       "      <td>...</td>\n",
       "      <td>910</td>\n",
       "      <td>1965</td>\n",
       "      <td>0</td>\n",
       "      <td>98136</td>\n",
       "      <td>47.5208</td>\n",
       "      <td>-122.393</td>\n",
       "      <td>0</td>\n",
       "      <td>50</td>\n",
       "      <td>9813</td>\n",
       "      <td>3040.0</td>\n",
       "    </tr>\n",
       "    <tr>\n",
       "      <th>4</th>\n",
       "      <td>1954400510</td>\n",
       "      <td>2015-02-18</td>\n",
       "      <td>510000.0</td>\n",
       "      <td>3.0</td>\n",
       "      <td>2.00</td>\n",
       "      <td>1680.0</td>\n",
       "      <td>8080.0</td>\n",
       "      <td>1.0</td>\n",
       "      <td>0</td>\n",
       "      <td>0</td>\n",
       "      <td>...</td>\n",
       "      <td>0</td>\n",
       "      <td>1987</td>\n",
       "      <td>0</td>\n",
       "      <td>98074</td>\n",
       "      <td>47.6168</td>\n",
       "      <td>-122.045</td>\n",
       "      <td>0</td>\n",
       "      <td>28</td>\n",
       "      <td>9807</td>\n",
       "      <td>6400.0</td>\n",
       "    </tr>\n",
       "  </tbody>\n",
       "</table>\n",
       "<p>5 rows × 23 columns</p>\n",
       "</div>"
      ],
      "text/plain": [
       "           id       date     price  bedrooms  bathrooms  sqft_living  \\\n",
       "0  7129300520 2014-10-13  221900.0       3.0       1.00       1180.0   \n",
       "1  6414100192 2014-12-09  538000.0       3.0       2.25       2570.0   \n",
       "2  5631500400 2015-02-25  180000.0       2.0       1.00        770.0   \n",
       "3  2487200875 2014-12-09  604000.0       4.0       3.00       1960.0   \n",
       "4  1954400510 2015-02-18  510000.0       3.0       2.00       1680.0   \n",
       "\n",
       "   sqft_lot  floors waterfront view  ... sqft_basement yr_built  yr_renovated  \\\n",
       "0    5650.0     1.0          0    0  ...             0     1955             0   \n",
       "1    7242.0     2.0          0    0  ...           400     1951          1991   \n",
       "2   10000.0     1.0          0    0  ...             0     1933             0   \n",
       "3    5000.0     1.0          0    0  ...           910     1965             0   \n",
       "4    8080.0     1.0          0    0  ...             0     1987             0   \n",
       "\n",
       "   zipcode      lat     long isRenovated  houseAge  zip4 sqft_yard  \n",
       "0    98178  47.5112 -122.257           0        60  9817    4470.0  \n",
       "1    98125  47.7210 -122.319           1        64  9812    4672.0  \n",
       "2    98028  47.7379 -122.233           0        82  9802    9230.0  \n",
       "3    98136  47.5208 -122.393           0        50  9813    3040.0  \n",
       "4    98074  47.6168 -122.045           0        28  9807    6400.0  \n",
       "\n",
       "[5 rows x 23 columns]"
      ]
     },
     "execution_count": 18,
     "metadata": {},
     "output_type": "execute_result"
    }
   ],
   "source": [
    "houseSales.head(5)"
   ]
  },
  {
   "cell_type": "markdown",
   "id": "4d2d0f39",
   "metadata": {},
   "source": [
    "Above is a display of our dataset with updated types for the variables."
   ]
  },
  {
   "cell_type": "markdown",
   "id": "74b3f531",
   "metadata": {},
   "source": [
    "##### Provide measures of centrality and distribution with visualizations"
   ]
  },
  {
   "cell_type": "markdown",
   "id": "ec591e83",
   "metadata": {},
   "source": [
    "The following command gives us a distribution for each of the numerical variables."
   ]
  },
  {
   "cell_type": "code",
   "execution_count": 19,
   "id": "cbed6b31",
   "metadata": {},
   "outputs": [
    {
     "data": {
      "text/html": [
       "<div>\n",
       "<style scoped>\n",
       "    .dataframe tbody tr th:only-of-type {\n",
       "        vertical-align: middle;\n",
       "    }\n",
       "\n",
       "    .dataframe tbody tr th {\n",
       "        vertical-align: top;\n",
       "    }\n",
       "\n",
       "    .dataframe thead th {\n",
       "        text-align: right;\n",
       "    }\n",
       "</style>\n",
       "<table border=\"1\" class=\"dataframe\">\n",
       "  <thead>\n",
       "    <tr style=\"text-align: right;\">\n",
       "      <th></th>\n",
       "      <th>price</th>\n",
       "      <th>bedrooms</th>\n",
       "      <th>bathrooms</th>\n",
       "      <th>sqft_living</th>\n",
       "      <th>sqft_lot</th>\n",
       "      <th>floors</th>\n",
       "      <th>sqft_above</th>\n",
       "      <th>sqft_basement</th>\n",
       "      <th>sqft_yard</th>\n",
       "      <th>houseAge</th>\n",
       "    </tr>\n",
       "  </thead>\n",
       "  <tbody>\n",
       "    <tr>\n",
       "      <th>count</th>\n",
       "      <td>21613.00</td>\n",
       "      <td>21613.00</td>\n",
       "      <td>21613.00</td>\n",
       "      <td>21613.00</td>\n",
       "      <td>21613.00</td>\n",
       "      <td>21613.00</td>\n",
       "      <td>21613.00</td>\n",
       "      <td>21613.00</td>\n",
       "      <td>21613.00</td>\n",
       "      <td>21613.00</td>\n",
       "    </tr>\n",
       "    <tr>\n",
       "      <th>mean</th>\n",
       "      <td>540088.14</td>\n",
       "      <td>3.35</td>\n",
       "      <td>2.12</td>\n",
       "      <td>2072.80</td>\n",
       "      <td>14814.65</td>\n",
       "      <td>1.49</td>\n",
       "      <td>1788.39</td>\n",
       "      <td>291.51</td>\n",
       "      <td>12741.85</td>\n",
       "      <td>43.99</td>\n",
       "    </tr>\n",
       "    <tr>\n",
       "      <th>std</th>\n",
       "      <td>367127.20</td>\n",
       "      <td>0.91</td>\n",
       "      <td>0.75</td>\n",
       "      <td>891.94</td>\n",
       "      <td>40504.19</td>\n",
       "      <td>0.54</td>\n",
       "      <td>828.09</td>\n",
       "      <td>442.58</td>\n",
       "      <td>40371.35</td>\n",
       "      <td>29.37</td>\n",
       "    </tr>\n",
       "    <tr>\n",
       "      <th>min</th>\n",
       "      <td>75000.00</td>\n",
       "      <td>0.00</td>\n",
       "      <td>0.00</td>\n",
       "      <td>290.00</td>\n",
       "      <td>520.00</td>\n",
       "      <td>1.00</td>\n",
       "      <td>290.00</td>\n",
       "      <td>0.00</td>\n",
       "      <td>-1900.00</td>\n",
       "      <td>0.00</td>\n",
       "    </tr>\n",
       "    <tr>\n",
       "      <th>25%</th>\n",
       "      <td>321950.00</td>\n",
       "      <td>3.00</td>\n",
       "      <td>1.75</td>\n",
       "      <td>1450.00</td>\n",
       "      <td>5140.00</td>\n",
       "      <td>1.00</td>\n",
       "      <td>1190.00</td>\n",
       "      <td>0.00</td>\n",
       "      <td>3220.00</td>\n",
       "      <td>18.00</td>\n",
       "    </tr>\n",
       "    <tr>\n",
       "      <th>50%</th>\n",
       "      <td>450000.00</td>\n",
       "      <td>3.00</td>\n",
       "      <td>2.25</td>\n",
       "      <td>1920.00</td>\n",
       "      <td>7620.00</td>\n",
       "      <td>1.50</td>\n",
       "      <td>1560.00</td>\n",
       "      <td>0.00</td>\n",
       "      <td>5700.00</td>\n",
       "      <td>40.00</td>\n",
       "    </tr>\n",
       "    <tr>\n",
       "      <th>75%</th>\n",
       "      <td>645000.00</td>\n",
       "      <td>4.00</td>\n",
       "      <td>2.50</td>\n",
       "      <td>2510.00</td>\n",
       "      <td>10404.00</td>\n",
       "      <td>2.00</td>\n",
       "      <td>2210.00</td>\n",
       "      <td>560.00</td>\n",
       "      <td>8434.00</td>\n",
       "      <td>64.00</td>\n",
       "    </tr>\n",
       "    <tr>\n",
       "      <th>max</th>\n",
       "      <td>7700000.00</td>\n",
       "      <td>33.00</td>\n",
       "      <td>8.00</td>\n",
       "      <td>12050.00</td>\n",
       "      <td>1651359.00</td>\n",
       "      <td>3.50</td>\n",
       "      <td>9410.00</td>\n",
       "      <td>4820.00</td>\n",
       "      <td>1650059.00</td>\n",
       "      <td>115.00</td>\n",
       "    </tr>\n",
       "  </tbody>\n",
       "</table>\n",
       "</div>"
      ],
      "text/plain": [
       "            price  bedrooms  bathrooms  sqft_living    sqft_lot    floors  \\\n",
       "count    21613.00  21613.00   21613.00     21613.00    21613.00  21613.00   \n",
       "mean    540088.14      3.35       2.12      2072.80    14814.65      1.49   \n",
       "std     367127.20      0.91       0.75       891.94    40504.19      0.54   \n",
       "min      75000.00      0.00       0.00       290.00      520.00      1.00   \n",
       "25%     321950.00      3.00       1.75      1450.00     5140.00      1.00   \n",
       "50%     450000.00      3.00       2.25      1920.00     7620.00      1.50   \n",
       "75%     645000.00      4.00       2.50      2510.00    10404.00      2.00   \n",
       "max    7700000.00     33.00       8.00     12050.00  1651359.00      3.50   \n",
       "\n",
       "       sqft_above  sqft_basement   sqft_yard  houseAge  \n",
       "count    21613.00       21613.00    21613.00  21613.00  \n",
       "mean      1788.39         291.51    12741.85     43.99  \n",
       "std        828.09         442.58    40371.35     29.37  \n",
       "min        290.00           0.00    -1900.00      0.00  \n",
       "25%       1190.00           0.00     3220.00     18.00  \n",
       "50%       1560.00           0.00     5700.00     40.00  \n",
       "75%       2210.00         560.00     8434.00     64.00  \n",
       "max       9410.00        4820.00  1650059.00    115.00  "
      ]
     },
     "execution_count": 19,
     "metadata": {},
     "output_type": "execute_result"
    }
   ],
   "source": [
    "houseSales.loc[:,['price', 'bedrooms', 'bathrooms', 'sqft_living', 'sqft_lot', 'floors', \n",
    "           'sqft_above', 'sqft_basement', 'sqft_yard', 'houseAge']].describe().round(decimals = 2)"
   ]
  },
  {
   "cell_type": "markdown",
   "id": "379161d4",
   "metadata": {},
   "source": [
    "Because there is a negative value in the sqft_yard column for at least one of the records, there must have been an input error for either sqft_living or sqft_lot. As done with the missing data values, we will provide the median for each of these when this instance occurs."
   ]
  },
  {
   "cell_type": "code",
   "execution_count": 20,
   "id": "3a134738",
   "metadata": {},
   "outputs": [],
   "source": [
    "houseSales.loc[houseSales.sqft_yard < 0, 'sqft_living'] = houseSales['sqft_living'].median()\n",
    "houseSales.loc[houseSales.sqft_yard < 0, 'sqft_lot'] = houseSales['sqft_lot'].median()\n",
    "houseSales.loc[houseSales.sqft_yard < 0, 'sqft_yard'] = houseSales['sqft_yard'].median()"
   ]
  },
  {
   "cell_type": "markdown",
   "id": "c1eedf85",
   "metadata": {},
   "source": [
    "Below are histograms of each of the quantitative variables, in regards to their distribution of values."
   ]
  },
  {
   "cell_type": "code",
   "execution_count": 21,
   "id": "89422cc4",
   "metadata": {
    "scrolled": false
   },
   "outputs": [
    {
     "data": {
      "text/plain": [
       "array([[<AxesSubplot:title={'center':'price'}>,\n",
       "        <AxesSubplot:title={'center':'bedrooms'}>,\n",
       "        <AxesSubplot:title={'center':'bathrooms'}>],\n",
       "       [<AxesSubplot:title={'center':'sqft_living'}>,\n",
       "        <AxesSubplot:title={'center':'sqft_lot'}>,\n",
       "        <AxesSubplot:title={'center':'floors'}>],\n",
       "       [<AxesSubplot:title={'center':'sqft_above'}>,\n",
       "        <AxesSubplot:title={'center':'sqft_basement'}>,\n",
       "        <AxesSubplot:title={'center':'sqft_yard'}>],\n",
       "       [<AxesSubplot:title={'center':'houseAge'}>, <AxesSubplot:>,\n",
       "        <AxesSubplot:>]], dtype=object)"
      ]
     },
     "execution_count": 21,
     "metadata": {},
     "output_type": "execute_result"
    },
    {
     "data": {
      "image/png": "[encoded data removed]",
      "text/plain": [
       "<Figure size 864x720 with 12 Axes>"
      ]
     },
     "metadata": {
      "needs_background": "light"
     },
     "output_type": "display_data"
    }
   ],
   "source": [
    "houseSales.loc[:,['price', 'bedrooms', 'bathrooms', 'sqft_living', 'sqft_lot', 'floors', \n",
    "           'sqft_above', 'sqft_basement', 'sqft_yard', 'houseAge']].hist(bins=100, figsize = (12,10))"
   ]
  },
  {
   "cell_type": "markdown",
   "id": "e430692b",
   "metadata": {},
   "source": [
    "##### Diagnose for correlations between variables and determine independent and dependent variables"
   ]
  },
  {
   "cell_type": "markdown",
   "id": "68a5e335",
   "metadata": {},
   "source": [
    "For quantitative variables, we can look at the correlation matrix and then focus on the correlation with price."
   ]
  },
  {
   "cell_type": "code",
   "execution_count": 22,
   "id": "30235efd",
   "metadata": {},
   "outputs": [
    {
     "data": {
      "text/html": [
       "<div>\n",
       "<style scoped>\n",
       "    .dataframe tbody tr th:only-of-type {\n",
       "        vertical-align: middle;\n",
       "    }\n",
       "\n",
       "    .dataframe tbody tr th {\n",
       "        vertical-align: top;\n",
       "    }\n",
       "\n",
       "    .dataframe thead th {\n",
       "        text-align: right;\n",
       "    }\n",
       "</style>\n",
       "<table border=\"1\" class=\"dataframe\">\n",
       "  <thead>\n",
       "    <tr style=\"text-align: right;\">\n",
       "      <th></th>\n",
       "      <th>price</th>\n",
       "      <th>bedrooms</th>\n",
       "      <th>bathrooms</th>\n",
       "      <th>sqft_living</th>\n",
       "      <th>sqft_lot</th>\n",
       "      <th>floors</th>\n",
       "      <th>sqft_above</th>\n",
       "      <th>sqft_basement</th>\n",
       "      <th>lat</th>\n",
       "      <th>long</th>\n",
       "      <th>houseAge</th>\n",
       "      <th>sqft_yard</th>\n",
       "    </tr>\n",
       "  </thead>\n",
       "  <tbody>\n",
       "    <tr>\n",
       "      <th>price</th>\n",
       "      <td>1.000000</td>\n",
       "      <td>0.302493</td>\n",
       "      <td>0.515365</td>\n",
       "      <td>0.674046</td>\n",
       "      <td>0.085919</td>\n",
       "      <td>0.256794</td>\n",
       "      <td>0.605567</td>\n",
       "      <td>0.323816</td>\n",
       "      <td>0.307003</td>\n",
       "      <td>0.021626</td>\n",
       "      <td>-0.054012</td>\n",
       "      <td>0.071450</td>\n",
       "    </tr>\n",
       "    <tr>\n",
       "      <th>bedrooms</th>\n",
       "      <td>0.302493</td>\n",
       "      <td>1.000000</td>\n",
       "      <td>0.487280</td>\n",
       "      <td>0.540894</td>\n",
       "      <td>0.023820</td>\n",
       "      <td>0.172168</td>\n",
       "      <td>0.465769</td>\n",
       "      <td>0.291689</td>\n",
       "      <td>-0.008874</td>\n",
       "      <td>0.126537</td>\n",
       "      <td>-0.150364</td>\n",
       "      <td>0.012066</td>\n",
       "    </tr>\n",
       "    <tr>\n",
       "      <th>bathrooms</th>\n",
       "      <td>0.515365</td>\n",
       "      <td>0.487280</td>\n",
       "      <td>1.000000</td>\n",
       "      <td>0.719603</td>\n",
       "      <td>0.085373</td>\n",
       "      <td>0.487859</td>\n",
       "      <td>0.667757</td>\n",
       "      <td>0.276989</td>\n",
       "      <td>0.026612</td>\n",
       "      <td>0.218557</td>\n",
       "      <td>-0.495315</td>\n",
       "      <td>0.069907</td>\n",
       "    </tr>\n",
       "    <tr>\n",
       "      <th>sqft_living</th>\n",
       "      <td>0.674046</td>\n",
       "      <td>0.540894</td>\n",
       "      <td>0.719603</td>\n",
       "      <td>1.000000</td>\n",
       "      <td>0.156664</td>\n",
       "      <td>0.371199</td>\n",
       "      <td>0.844318</td>\n",
       "      <td>0.413930</td>\n",
       "      <td>0.056589</td>\n",
       "      <td>0.225793</td>\n",
       "      <td>-0.331767</td>\n",
       "      <td>0.135292</td>\n",
       "    </tr>\n",
       "    <tr>\n",
       "      <th>sqft_lot</th>\n",
       "      <td>0.085919</td>\n",
       "      <td>0.023820</td>\n",
       "      <td>0.085373</td>\n",
       "      <td>0.156664</td>\n",
       "      <td>1.000000</td>\n",
       "      <td>0.004181</td>\n",
       "      <td>0.174172</td>\n",
       "      <td>0.014162</td>\n",
       "      <td>-0.082764</td>\n",
       "      <td>0.220199</td>\n",
       "      <td>-0.056870</td>\n",
       "      <td>0.999767</td>\n",
       "    </tr>\n",
       "    <tr>\n",
       "      <th>floors</th>\n",
       "      <td>0.256794</td>\n",
       "      <td>0.172168</td>\n",
       "      <td>0.487859</td>\n",
       "      <td>0.371199</td>\n",
       "      <td>0.004181</td>\n",
       "      <td>1.000000</td>\n",
       "      <td>0.523885</td>\n",
       "      <td>-0.245705</td>\n",
       "      <td>0.049614</td>\n",
       "      <td>0.125419</td>\n",
       "      <td>-0.489319</td>\n",
       "      <td>-0.003925</td>\n",
       "    </tr>\n",
       "    <tr>\n",
       "      <th>sqft_above</th>\n",
       "      <td>0.605567</td>\n",
       "      <td>0.465769</td>\n",
       "      <td>0.667757</td>\n",
       "      <td>0.844318</td>\n",
       "      <td>0.174172</td>\n",
       "      <td>0.523885</td>\n",
       "      <td>1.000000</td>\n",
       "      <td>-0.051943</td>\n",
       "      <td>-0.000816</td>\n",
       "      <td>0.343803</td>\n",
       "      <td>-0.423898</td>\n",
       "      <td>0.156261</td>\n",
       "    </tr>\n",
       "    <tr>\n",
       "      <th>sqft_basement</th>\n",
       "      <td>0.323816</td>\n",
       "      <td>0.291689</td>\n",
       "      <td>0.276989</td>\n",
       "      <td>0.413930</td>\n",
       "      <td>0.014162</td>\n",
       "      <td>-0.245705</td>\n",
       "      <td>-0.051943</td>\n",
       "      <td>1.000000</td>\n",
       "      <td>0.110538</td>\n",
       "      <td>-0.144765</td>\n",
       "      <td>0.133124</td>\n",
       "      <td>0.005153</td>\n",
       "    </tr>\n",
       "    <tr>\n",
       "      <th>lat</th>\n",
       "      <td>0.307003</td>\n",
       "      <td>-0.008874</td>\n",
       "      <td>0.026612</td>\n",
       "      <td>0.056589</td>\n",
       "      <td>-0.082764</td>\n",
       "      <td>0.049614</td>\n",
       "      <td>-0.000816</td>\n",
       "      <td>0.110538</td>\n",
       "      <td>1.000000</td>\n",
       "      <td>-0.135512</td>\n",
       "      <td>0.148122</td>\n",
       "      <td>-0.084266</td>\n",
       "    </tr>\n",
       "    <tr>\n",
       "      <th>long</th>\n",
       "      <td>0.021626</td>\n",
       "      <td>0.126537</td>\n",
       "      <td>0.218557</td>\n",
       "      <td>0.225793</td>\n",
       "      <td>0.220199</td>\n",
       "      <td>0.125419</td>\n",
       "      <td>0.343803</td>\n",
       "      <td>-0.144765</td>\n",
       "      <td>-0.135512</td>\n",
       "      <td>1.000000</td>\n",
       "      <td>-0.409356</td>\n",
       "      <td>0.215963</td>\n",
       "    </tr>\n",
       "    <tr>\n",
       "      <th>houseAge</th>\n",
       "      <td>-0.054012</td>\n",
       "      <td>-0.150364</td>\n",
       "      <td>-0.495315</td>\n",
       "      <td>-0.331767</td>\n",
       "      <td>-0.056870</td>\n",
       "      <td>-0.489319</td>\n",
       "      <td>-0.423898</td>\n",
       "      <td>0.133124</td>\n",
       "      <td>0.148122</td>\n",
       "      <td>-0.409356</td>\n",
       "      <td>1.000000</td>\n",
       "      <td>-0.049795</td>\n",
       "    </tr>\n",
       "    <tr>\n",
       "      <th>sqft_yard</th>\n",
       "      <td>0.071450</td>\n",
       "      <td>0.012066</td>\n",
       "      <td>0.069907</td>\n",
       "      <td>0.135292</td>\n",
       "      <td>0.999767</td>\n",
       "      <td>-0.003925</td>\n",
       "      <td>0.156261</td>\n",
       "      <td>0.005153</td>\n",
       "      <td>-0.084266</td>\n",
       "      <td>0.215963</td>\n",
       "      <td>-0.049795</td>\n",
       "      <td>1.000000</td>\n",
       "    </tr>\n",
       "  </tbody>\n",
       "</table>\n",
       "</div>"
      ],
      "text/plain": [
       "                  price  bedrooms  bathrooms  sqft_living  sqft_lot    floors  \\\n",
       "price          1.000000  0.302493   0.515365     0.674046  0.085919  0.256794   \n",
       "bedrooms       0.302493  1.000000   0.487280     0.540894  0.023820  0.172168   \n",
       "bathrooms      0.515365  0.487280   1.000000     0.719603  0.085373  0.487859   \n",
       "sqft_living    0.674046  0.540894   0.719603     1.000000  0.156664  0.371199   \n",
       "sqft_lot       0.085919  0.023820   0.085373     0.156664  1.000000  0.004181   \n",
       "floors         0.256794  0.172168   0.487859     0.371199  0.004181  1.000000   \n",
       "sqft_above     0.605567  0.465769   0.667757     0.844318  0.174172  0.523885   \n",
       "sqft_basement  0.323816  0.291689   0.276989     0.413930  0.014162 -0.245705   \n",
       "lat            0.307003 -0.008874   0.026612     0.056589 -0.082764  0.049614   \n",
       "long           0.021626  0.126537   0.218557     0.225793  0.220199  0.125419   \n",
       "houseAge      -0.054012 -0.150364  -0.495315    -0.331767 -0.056870 -0.489319   \n",
       "sqft_yard      0.071450  0.012066   0.069907     0.135292  0.999767 -0.003925   \n",
       "\n",
       "               sqft_above  sqft_basement       lat      long  houseAge  \\\n",
       "price            0.605567       0.323816  0.307003  0.021626 -0.054012   \n",
       "bedrooms         0.465769       0.291689 -0.008874  0.126537 -0.150364   \n",
       "bathrooms        0.667757       0.276989  0.026612  0.218557 -0.495315   \n",
       "sqft_living      0.844318       0.413930  0.056589  0.225793 -0.331767   \n",
       "sqft_lot         0.174172       0.014162 -0.082764  0.220199 -0.056870   \n",
       "floors           0.523885      -0.245705  0.049614  0.125419 -0.489319   \n",
       "sqft_above       1.000000      -0.051943 -0.000816  0.343803 -0.423898   \n",
       "sqft_basement   -0.051943       1.000000  0.110538 -0.144765  0.133124   \n",
       "lat             -0.000816       0.110538  1.000000 -0.135512  0.148122   \n",
       "long             0.343803      -0.144765 -0.135512  1.000000 -0.409356   \n",
       "houseAge        -0.423898       0.133124  0.148122 -0.409356  1.000000   \n",
       "sqft_yard        0.156261       0.005153 -0.084266  0.215963 -0.049795   \n",
       "\n",
       "               sqft_yard  \n",
       "price           0.071450  \n",
       "bedrooms        0.012066  \n",
       "bathrooms       0.069907  \n",
       "sqft_living     0.135292  \n",
       "sqft_lot        0.999767  \n",
       "floors         -0.003925  \n",
       "sqft_above      0.156261  \n",
       "sqft_basement   0.005153  \n",
       "lat            -0.084266  \n",
       "long            0.215963  \n",
       "houseAge       -0.049795  \n",
       "sqft_yard       1.000000  "
      ]
     },
     "execution_count": 22,
     "metadata": {},
     "output_type": "execute_result"
    }
   ],
   "source": [
    "houseSales.corr()"
   ]
  },
  {
   "cell_type": "markdown",
   "id": "ad292679",
   "metadata": {},
   "source": [
    "The following figure is a visual representation of the correlation between different quantitative variables. The value of the correlation is given by color of the cells; the lighter the cell, the stronger the correlation between the two corresponding attributes."
   ]
  },
  {
   "cell_type": "code",
   "execution_count": 23,
   "id": "feea8c2f",
   "metadata": {},
   "outputs": [
    {
     "data": {
      "image/png": "[encoded data removed]",
      "text/plain": [
       "<Figure size 432x288 with 2 Axes>"
      ]
     },
     "metadata": {
      "needs_background": "light"
     },
     "output_type": "display_data"
    }
   ],
   "source": [
    "corr = houseSales[['price',\n",
    "                   'bedrooms', \n",
    "                   'bathrooms', \n",
    "                   'sqft_living', \n",
    "                   'sqft_lot', \n",
    "                   'sqft_yard',\n",
    "                   'floors',\n",
    "                   'sqft_above',\n",
    "                   'sqft_basement',\n",
    "                   'isRenovated', \n",
    "                   'houseAge']].corr()\n",
    "\n",
    "sns.heatmap(corr, \n",
    "        xticklabels=corr.columns,\n",
    "        yticklabels=corr.columns);\n",
    "plt.title(\"Correlation matrix\");"
   ]
  },
  {
   "cell_type": "markdown",
   "id": "cb41a78d",
   "metadata": {},
   "source": [
    "Below is another plot that helps to show the correlations between corresponding attributes."
   ]
  },
  {
   "cell_type": "code",
   "execution_count": 24,
   "id": "0f94dbea",
   "metadata": {},
   "outputs": [
    {
     "data": {
      "image/png": "[encoded data removed]",
      "text/plain": [
       "<Figure size 432x288 with 1 Axes>"
      ]
     },
     "metadata": {
      "needs_background": "light"
     },
     "output_type": "display_data"
    }
   ],
   "source": [
    "plt.bar(x= corr.columns, height=corr.price)\n",
    "plt.xticks(list(range(corr.shape[0])), corr.index, rotation=90);\n",
    "plt.ylabel(\"Correlation to price\")\n",
    "plt.xlabel(\"Variable\")\n",
    "plt.title(\"Correlation between quantitative variables and price\");"
   ]
  },
  {
   "cell_type": "markdown",
   "id": "5d03dee7",
   "metadata": {},
   "source": [
    "##### Perform exploratory analysis in combination with visualization techniques to discover patterns and features of interest"
   ]
  },
  {
   "cell_type": "markdown",
   "id": "ab04ad1a",
   "metadata": {},
   "source": [
    "Below are the unique values in the grade attribute."
   ]
  },
  {
   "cell_type": "code",
   "execution_count": 25,
   "id": "81cd330f",
   "metadata": {},
   "outputs": [
    {
     "data": {
      "text/plain": [
       "[7, 6, 8, 11, 9, ..., 12, 4, 3, 13, 1]\n",
       "Length: 12\n",
       "Categories (12, int64): [1, 3, 4, 5, ..., 10, 11, 12, 13]"
      ]
     },
     "execution_count": 25,
     "metadata": {},
     "output_type": "execute_result"
    }
   ],
   "source": [
    "houseSales['grade'].unique()"
   ]
  },
  {
   "cell_type": "markdown",
   "id": "913fea21",
   "metadata": {},
   "source": [
    "Below are the unique values in the condition attribute."
   ]
  },
  {
   "cell_type": "code",
   "execution_count": 26,
   "id": "54d478a1",
   "metadata": {},
   "outputs": [
    {
     "data": {
      "text/plain": [
       "[3, 5, 4, 1, 2]\n",
       "Categories (5, int64): [1, 2, 3, 4, 5]"
      ]
     },
     "execution_count": 26,
     "metadata": {},
     "output_type": "execute_result"
    }
   ],
   "source": [
    "houseSales['condition'].unique()"
   ]
  },
  {
   "cell_type": "markdown",
   "id": "3638c5c4",
   "metadata": {},
   "source": [
    "The following figures help visualize the relationship between some categorical variables and the price of the house."
   ]
  },
  {
   "cell_type": "code",
   "execution_count": 27,
   "id": "4c490ac7",
   "metadata": {
    "scrolled": true
   },
   "outputs": [
    {
     "data": {
      "image/png": "[encoded data removed]",
      "text/plain": [
       "<Figure size 432x288 with 1 Axes>"
      ]
     },
     "metadata": {
      "needs_background": "light"
     },
     "output_type": "display_data"
    }
   ],
   "source": [
    "pricePerGrade = houseSales.groupby('grade').mean()['price']\n",
    "plt.scatter(x=pricePerGrade.index, y=pricePerGrade);\n",
    "plt.xlabel(\"House grade\")\n",
    "plt.ylabel(\"Average house price\")\n",
    "plt.title(\"Average house price per grade category\");"
   ]
  },
  {
   "cell_type": "markdown",
   "id": "cf9043f7",
   "metadata": {},
   "source": [
    "There is a clear exponential relationship between the price and the grade."
   ]
  },
  {
   "cell_type": "code",
   "execution_count": 28,
   "id": "41e0ad1d",
   "metadata": {},
   "outputs": [
    {
     "data": {
      "image/png": "[encoded data removed]",
      "text/plain": [
       "<Figure size 432x288 with 1 Axes>"
      ]
     },
     "metadata": {
      "needs_background": "light"
     },
     "output_type": "display_data"
    }
   ],
   "source": [
    "pricePerCondition = houseSales.groupby('condition').mean()['price']\n",
    "plt.bar(x=pricePerCondition.index, height=pricePerCondition);\n",
    "plt.xlabel(\"House condition\")\n",
    "plt.ylabel(\"Average house price\")\n",
    "plt.title(\"Average house price per condition category\");"
   ]
  },
  {
   "cell_type": "markdown",
   "id": "a2f30872",
   "metadata": {},
   "source": [
    "The condition of house also seems to impact average price, however less severely as compared to grade."
   ]
  },
  {
   "cell_type": "code",
   "execution_count": 29,
   "id": "d381db30",
   "metadata": {},
   "outputs": [
    {
     "data": {
      "image/png": "[encoded data removed]",
      "text/plain": [
       "<Figure size 432x288 with 1 Axes>"
      ]
     },
     "metadata": {
      "needs_background": "light"
     },
     "output_type": "display_data"
    }
   ],
   "source": [
    "pricePerZip4 = houseSales.groupby('zip4').mean()['price'].sort_values()\n",
    "plt.bar(x=pricePerZip4.index, height=pricePerZip4)\n",
    "plt.xticks([i for i in range(len(pricePerZip4.index))], pricePerZip4.index, rotation=90);\n",
    "plt.xlabel(\"House Zip4\")\n",
    "plt.ylabel(\"Average house price\")\n",
    "plt.title(\"Average house price per zip4\");"
   ]
  },
  {
   "cell_type": "markdown",
   "id": "3dc94bde",
   "metadata": {},
   "source": [
    "Clearly some areas are more expensive than others, as can be seen at the zip4 level."
   ]
  },
  {
   "cell_type": "markdown",
   "id": "3c465f6c",
   "metadata": {},
   "source": [
    "## Data Analytics\n",
    "\n",
    "sqft_living seems to be the most correlated quantitative variable with price. The age of the house does not seem to be relevant, however it might be when combined with other variables. We will explore this when building our regression model. But first, we wanted to show the linear regression model between price and sqft_living as this is the most correlated variable."
   ]
  },
  {
   "cell_type": "code",
   "execution_count": 30,
   "id": "f18de558",
   "metadata": {},
   "outputs": [
    {
     "name": "stdout",
     "output_type": "stream",
     "text": [
      "                            OLS Regression Results                            \n",
      "==============================================================================\n",
      "Dep. Variable:                  price   R-squared:                       0.454\n",
      "Model:                            OLS   Adj. R-squared:                  0.454\n",
      "Method:                 Least Squares   F-statistic:                 1.799e+04\n",
      "Date:                Mon, 19 Sep 2022   Prob (F-statistic):               0.00\n",
      "Time:                        13:37:30   Log-Likelihood:            -3.0106e+05\n",
      "No. Observations:               21613   AIC:                         6.021e+05\n",
      "Df Residuals:                   21611   BIC:                         6.021e+05\n",
      "Df Model:                           1                                         \n",
      "Covariance Type:            nonrobust                                         \n",
      "===============================================================================\n",
      "                  coef    std err          t      P>|t|      [0.025      0.975]\n",
      "-------------------------------------------------------------------------------\n",
      "const        -4.44e+04   4731.667     -9.384      0.000   -5.37e+04   -3.51e+04\n",
      "sqft_living   280.6230      2.092    134.142      0.000     276.523     284.723\n",
      "==============================================================================\n",
      "Omnibus:                    17904.421   Durbin-Watson:                   1.971\n",
      "Prob(Omnibus):                  0.000   Jarque-Bera (JB):          1402780.110\n",
      "Skew:                           3.502   Prob(JB):                         0.00\n",
      "Kurtosis:                      41.841   Cond. No.                     5.80e+03\n",
      "==============================================================================\n",
      "\n",
      "Notes:\n",
      "[1] Standard Errors assume that the covariance matrix of the errors is correctly specified.\n",
      "[2] The condition number is large, 5.8e+03. This might indicate that there are\n",
      "strong multicollinearity or other numerical problems.\n"
     ]
    }
   ],
   "source": [
    "x_linreg = houseSales['sqft_living']\n",
    "y_linreg = houseSales['price']\n",
    "\n",
    "x_linreg = sma.add_constant(x_linreg)\n",
    "\n",
    "model_linreg = sma.OLS(y_linreg, x_linreg).fit()\n",
    "predictions = model_linreg.predict(x_linreg)\n",
    "print_model_linreg = model_linreg.summary()\n",
    "print(print_model_linreg)"
   ]
  },
  {
   "cell_type": "markdown",
   "id": "c49f2c77",
   "metadata": {},
   "source": [
    "The equation of the regression line would be: price = 280.6230 * sqft_living - 44,440 <br>\n",
    "If we were to predict the price of a house just based on the square feet of the house, we would be using a linear regression model with an adjusted R-squared value of 0.454, suggesting only a medium fit. We will instead use more variables to help us predict price, as shown in the following sections."
   ]
  },
  {
   "cell_type": "markdown",
   "id": "d118a4d0",
   "metadata": {},
   "source": [
    "#### Regression model"
   ]
  },
  {
   "cell_type": "markdown",
   "id": "868e5514",
   "metadata": {},
   "source": [
    "Because we have the labels and values of the given House Sales dataset, we are able to perform a supervised learning method using the known correct outcome values of training sets. The training sets, and the patterns they contain, are used to make predictions on the price in the testing set.\n",
    "\n",
    "Our dependent variable is price, and our explanatory variables are: <br> <br>\n",
    "bedrooms: quantitative <br>\n",
    "bathrooms: quantitative <br>\n",
    "sqft_living: quantitative <br> \n",
    "sqft_lot: quantitative <br>\n",
    "sqft_yard: quantitative <br>\n",
    "floors: quantitative <br>\n",
    "sqft_above: quantitative <br>\n",
    "sqft_basement: quantitative <br>\n",
    "isRenovated: quantitative <br> \n",
    "houseAge: quantitative <br> \n",
    "\n",
    "waterfront: categorical <br> \n",
    "view: categorical <br>\n",
    "zip4: categorical <br>\n",
    "condition: categorical <br>\n",
    "grade: categorical <br><br>\n",
    "\n",
    "\n",
    "We decide to use a regression decision tree to predict price as function of our explanatory variables. Since this model is able to handle categorical features, we will not process categorical data further (e.g. with one hot encoding). "
   ]
  },
  {
   "cell_type": "code",
   "execution_count": 31,
   "id": "e2737b97",
   "metadata": {},
   "outputs": [],
   "source": [
    "#pip install sklearn"
   ]
  },
  {
   "cell_type": "code",
   "execution_count": 32,
   "id": "ca5c068a",
   "metadata": {},
   "outputs": [],
   "source": [
    "from sklearn.tree import DecisionTreeRegressor\n",
    "from sklearn.model_selection import train_test_split\n",
    "from sklearn.model_selection import GridSearchCV\n",
    "from sklearn.metrics import mean_squared_error, mean_absolute_error, r2_score"
   ]
  },
  {
   "cell_type": "markdown",
   "id": "1ed5c707",
   "metadata": {},
   "source": [
    "We split the data into two parts: <br>\n",
    "1. X: contains all of the variables used to predict the price\n",
    "2. y: contains the price of the houses"
   ]
  },
  {
   "cell_type": "code",
   "execution_count": 33,
   "id": "3ac7b735",
   "metadata": {},
   "outputs": [],
   "source": [
    "X = houseSales[['bedrooms', \n",
    "                   'bathrooms', \n",
    "                   'sqft_living', \n",
    "                   'sqft_lot',\n",
    "                   'sqft_yard',\n",
    "                   'floors', \n",
    "                   'sqft_above',\n",
    "                   'sqft_basement',\n",
    "                   'isRenovated', \n",
    "                   'houseAge', \n",
    "                   'waterfront', 'view', 'zip4', 'condition', 'grade']]\n",
    "y = houseSales.price"
   ]
  },
  {
   "cell_type": "markdown",
   "id": "6c3634ad",
   "metadata": {},
   "source": [
    "###### Creation of training and testing set "
   ]
  },
  {
   "cell_type": "markdown",
   "id": "cb0f9da2",
   "metadata": {},
   "source": [
    "We split our data into two sets: <br>\n",
    "\n",
    "1. Trainset (X_train, y_train): This is the part of the data that we will use to train our model.\n",
    "2. Testset (X_test, y_train): This part of the date is used to measure the quality of our model.\n",
    "<br>\n",
    "\n",
    "We use the function train_test_split to do that, and choose to put 30\\% of the data into the test set."
   ]
  },
  {
   "cell_type": "code",
   "execution_count": 34,
   "id": "92c97afe",
   "metadata": {},
   "outputs": [],
   "source": [
    "X_train, X_test, y_train, y_test = train_test_split(\n",
    "    X, y, test_size=0.30, random_state=0)"
   ]
  },
  {
   "cell_type": "markdown",
   "id": "8a9f0843",
   "metadata": {},
   "source": [
    "###### Training the model"
   ]
  },
  {
   "cell_type": "markdown",
   "id": "9456bf63",
   "metadata": {},
   "source": [
    "Here we choose to train a DecisionTreeRegressor model from library sklearn.\n",
    "\n",
    "We choose the parameters of the model via cross validation on the training set.\n",
    "\n",
    "The data used here is only the trainset."
   ]
  },
  {
   "cell_type": "code",
   "execution_count": 35,
   "id": "c36c0076",
   "metadata": {},
   "outputs": [
    {
     "data": {
      "text/html": [
       "<style>#sk-container-id-1 {color: black;background-color: white;}#sk-container-id-1 pre{padding: 0;}#sk-container-id-1 div.sk-toggleable {background-color: white;}#sk-container-id-1 label.sk-toggleable__label {cursor: pointer;display: block;width: 100%;margin-bottom: 0;padding: 0.3em;box-sizing: border-box;text-align: center;}#sk-container-id-1 label.sk-toggleable__label-arrow:before {content: \"▸\";float: left;margin-right: 0.25em;color: #696969;}#sk-container-id-1 label.sk-toggleable__label-arrow:hover:before {color: black;}#sk-container-id-1 div.sk-estimator:hover label.sk-toggleable__label-arrow:before {color: black;}#sk-container-id-1 div.sk-toggleable__content {max-height: 0;max-width: 0;overflow: hidden;text-align: left;background-color: #f0f8ff;}#sk-container-id-1 div.sk-toggleable__content pre {margin: 0.2em;color: black;border-radius: 0.25em;background-color: #f0f8ff;}#sk-container-id-1 input.sk-toggleable__control:checked~div.sk-toggleable__content {max-height: 200px;max-width: 100%;overflow: auto;}#sk-container-id-1 input.sk-toggleable__control:checked~label.sk-toggleable__label-arrow:before {content: \"▾\";}#sk-container-id-1 div.sk-estimator input.sk-toggleable__control:checked~label.sk-toggleable__label {background-color: #d4ebff;}#sk-container-id-1 div.sk-label input.sk-toggleable__control:checked~label.sk-toggleable__label {background-color: #d4ebff;}#sk-container-id-1 input.sk-hidden--visually {border: 0;clip: rect(1px 1px 1px 1px);clip: rect(1px, 1px, 1px, 1px);height: 1px;margin: -1px;overflow: hidden;padding: 0;position: absolute;width: 1px;}#sk-container-id-1 div.sk-estimator {font-family: monospace;background-color: #f0f8ff;border: 1px dotted black;border-radius: 0.25em;box-sizing: border-box;margin-bottom: 0.5em;}#sk-container-id-1 div.sk-estimator:hover {background-color: #d4ebff;}#sk-container-id-1 div.sk-parallel-item::after {content: \"\";width: 100%;border-bottom: 1px solid gray;flex-grow: 1;}#sk-container-id-1 div.sk-label:hover label.sk-toggleable__label {background-color: #d4ebff;}#sk-container-id-1 div.sk-serial::before {content: \"\";position: absolute;border-left: 1px solid gray;box-sizing: border-box;top: 0;bottom: 0;left: 50%;z-index: 0;}#sk-container-id-1 div.sk-serial {display: flex;flex-direction: column;align-items: center;background-color: white;padding-right: 0.2em;padding-left: 0.2em;position: relative;}#sk-container-id-1 div.sk-item {position: relative;z-index: 1;}#sk-container-id-1 div.sk-parallel {display: flex;align-items: stretch;justify-content: center;background-color: white;position: relative;}#sk-container-id-1 div.sk-item::before, #sk-container-id-1 div.sk-parallel-item::before {content: \"\";position: absolute;border-left: 1px solid gray;box-sizing: border-box;top: 0;bottom: 0;left: 50%;z-index: -1;}#sk-container-id-1 div.sk-parallel-item {display: flex;flex-direction: column;z-index: 1;position: relative;background-color: white;}#sk-container-id-1 div.sk-parallel-item:first-child::after {align-self: flex-end;width: 50%;}#sk-container-id-1 div.sk-parallel-item:last-child::after {align-self: flex-start;width: 50%;}#sk-container-id-1 div.sk-parallel-item:only-child::after {width: 0;}#sk-container-id-1 div.sk-dashed-wrapped {border: 1px dashed gray;margin: 0 0.4em 0.5em 0.4em;box-sizing: border-box;padding-bottom: 0.4em;background-color: white;}#sk-container-id-1 div.sk-label label {font-family: monospace;font-weight: bold;display: inline-block;line-height: 1.2em;}#sk-container-id-1 div.sk-label-container {text-align: center;}#sk-container-id-1 div.sk-container {/* jupyter's `normalize.less` sets `[hidden] { display: none; }` but bootstrap.min.css set `[hidden] { display: none !important; }` so we also need the `!important` here to be able to override the default hidden behavior on the sphinx rendered scikit-learn.org. See: https://github.com/scikit-learn/scikit-learn/issues/21755 */display: inline-block !important;position: relative;}#sk-container-id-1 div.sk-text-repr-fallback {display: none;}</style><div id=\"sk-container-id-1\" class=\"sk-top-container\"><div class=\"sk-text-repr-fallback\"><pre>GridSearchCV(estimator=DecisionTreeRegressor(random_state=0),\n",
       "             param_grid={&#x27;max_depth&#x27;: [3, 5, 7, 9, 10, 15, 20],\n",
       "                         &#x27;min_samples_split&#x27;: [2, 4, 10, 20, 30, 50]})</pre><b>In a Jupyter environment, please rerun this cell to show the HTML representation or trust the notebook. <br />On GitHub, the HTML representation is unable to render, please try loading this page with nbviewer.org.</b></div><div class=\"sk-container\" hidden><div class=\"sk-item sk-dashed-wrapped\"><div class=\"sk-label-container\"><div class=\"sk-label sk-toggleable\"><input class=\"sk-toggleable__control sk-hidden--visually\" id=\"sk-estimator-id-1\" type=\"checkbox\" ><label for=\"sk-estimator-id-1\" class=\"sk-toggleable__label sk-toggleable__label-arrow\">GridSearchCV</label><div class=\"sk-toggleable__content\"><pre>GridSearchCV(estimator=DecisionTreeRegressor(random_state=0),\n",
       "             param_grid={&#x27;max_depth&#x27;: [3, 5, 7, 9, 10, 15, 20],\n",
       "                         &#x27;min_samples_split&#x27;: [2, 4, 10, 20, 30, 50]})</pre></div></div></div><div class=\"sk-parallel\"><div class=\"sk-parallel-item\"><div class=\"sk-item\"><div class=\"sk-label-container\"><div class=\"sk-label sk-toggleable\"><input class=\"sk-toggleable__control sk-hidden--visually\" id=\"sk-estimator-id-2\" type=\"checkbox\" ><label for=\"sk-estimator-id-2\" class=\"sk-toggleable__label sk-toggleable__label-arrow\">estimator: DecisionTreeRegressor</label><div class=\"sk-toggleable__content\"><pre>DecisionTreeRegressor(random_state=0)</pre></div></div></div><div class=\"sk-serial\"><div class=\"sk-item\"><div class=\"sk-estimator sk-toggleable\"><input class=\"sk-toggleable__control sk-hidden--visually\" id=\"sk-estimator-id-3\" type=\"checkbox\" ><label for=\"sk-estimator-id-3\" class=\"sk-toggleable__label sk-toggleable__label-arrow\">DecisionTreeRegressor</label><div class=\"sk-toggleable__content\"><pre>DecisionTreeRegressor(random_state=0)</pre></div></div></div></div></div></div></div></div></div></div>"
      ],
      "text/plain": [
       "GridSearchCV(estimator=DecisionTreeRegressor(random_state=0),\n",
       "             param_grid={'max_depth': [3, 5, 7, 9, 10, 15, 20],\n",
       "                         'min_samples_split': [2, 4, 10, 20, 30, 50]})"
      ]
     },
     "execution_count": 35,
     "metadata": {},
     "output_type": "execute_result"
    }
   ],
   "source": [
    "regressor = DecisionTreeRegressor(random_state=0)\n",
    "parameters = {'max_depth': [3, 5, 7, 9, 10, 15, 20], \n",
    "              'min_samples_split': [2, 4, 10, 20, 30, 50]}\n",
    "model = GridSearchCV(regressor, parameters)\n",
    "model.fit(X_train, y_train)"
   ]
  },
  {
   "cell_type": "markdown",
   "id": "9211f759",
   "metadata": {},
   "source": [
    "###### Testing the model"
   ]
  },
  {
   "cell_type": "markdown",
   "id": "592cbc83",
   "metadata": {},
   "source": [
    "Now the model is trained, we use the predict function to predict house prices using the variables.\n",
    "\n",
    "We evaluate the quality of the model on the test set and also on the training set for comparison."
   ]
  },
  {
   "cell_type": "code",
   "execution_count": 36,
   "id": "acb8a958",
   "metadata": {},
   "outputs": [
    {
     "name": "stdout",
     "output_type": "stream",
     "text": [
      "MSE train: 27546745573.11343 | MSE test: 44642646644.47781\n",
      "MAE train: 101759.05529247221 | MAE test: 123407.49951140535\n",
      "R squared train: 0.7939614063620175 | R squared test: 0.6748342046837703\n"
     ]
    }
   ],
   "source": [
    "predictTrain = model.predict(X_train)\n",
    "predictTest = model.predict(X_test)\n",
    "print(f\"MSE train: {mean_squared_error(y_train, predictTrain)} | MSE test: {mean_squared_error(y_test, predictTest)}\")\n",
    "print(f\"MAE train: {mean_absolute_error(y_train, predictTrain)} | MAE test: {mean_absolute_error(y_test, predictTest)}\")\n",
    "print(f\"R squared train: {r2_score(y_train, predictTrain)} | R squared test: {r2_score(y_test, predictTest)}\")\n"
   ]
  },
  {
   "cell_type": "markdown",
   "id": "8c0321f9",
   "metadata": {},
   "source": [
    "Our selected model performs relatively well being able to explain 67.5% of the variance in the data on the testing sample. However, the better performance of 79.4% variance explanation on the training set signals there is still some overfitting which may be addressed by using more regularization in the model or by gathering more data."
   ]
  },
  {
   "cell_type": "markdown",
   "id": "a32b03e9",
   "metadata": {},
   "source": [
    "The two following figures represent the predicted values against the actual values and provide a visual way to assess the model quality. With a perfect model, every blue point would be on the red line. The further away from the red line they are, the bigger the error is."
   ]
  },
  {
   "cell_type": "code",
   "execution_count": 37,
   "id": "907a1fa4",
   "metadata": {},
   "outputs": [
    {
     "data": {
      "image/png": "[encoded data removed]",
      "text/plain": [
       "<Figure size 432x288 with 1 Axes>"
      ]
     },
     "metadata": {
      "needs_background": "light"
     },
     "output_type": "display_data"
    }
   ],
   "source": [
    "plt.scatter(predictTrain, y_train)\n",
    "plt.plot([0,5e6], [0,5e6], color='r')\n",
    "plt.xlabel(\"Predicted price\")\n",
    "plt.ylabel(\"Actual price\")\n",
    "plt.title(\"Performance on training data\");"
   ]
  },
  {
   "cell_type": "code",
   "execution_count": 38,
   "id": "6455fa5e",
   "metadata": {},
   "outputs": [
    {
     "data": {
      "image/png": "[encoded data removed]",
      "text/plain": [
       "<Figure size 432x288 with 1 Axes>"
      ]
     },
     "metadata": {
      "needs_background": "light"
     },
     "output_type": "display_data"
    }
   ],
   "source": [
    "plt.scatter(predictTest, y_test)\n",
    "plt.plot([0,5e6], [0,5e6], color='r')\n",
    "plt.xlabel(\"Predicted price\")\n",
    "plt.ylabel(\"Actual price\")\n",
    "plt.title(\"Performance on testing data\");"
   ]
  },
  {
   "cell_type": "markdown",
   "id": "b9fdced7",
   "metadata": {},
   "source": [
    "Looking at the above plots we can vizualize how the predictions of our model differ from the actual values."
   ]
  },
  {
   "cell_type": "markdown",
   "id": "53ccd741",
   "metadata": {},
   "source": [
    "### Conclusion\n",
    "\n",
    "We have performed some exploratory analysis on the house sales dataset and built a regression model to predict the price of the houses. Our proposed model could still be improved as the results show that it suffers from overfitting. Further exploration could consist of using different, more complex models."
   ]
  }
 ],
 "metadata": {
  "kernelspec": {
   "display_name": "Python 3 (ipykernel)",
   "language": "python",
   "name": "python3"
  },
  "language_info": {
   "codemirror_mode": {
    "name": "ipython",
    "version": 3
   },
   "file_extension": ".py",
   "mimetype": "text/x-python",
   "name": "python",
   "nbconvert_exporter": "python",
   "pygments_lexer": "ipython3",
   "version": "3.10.4"
  }
 },
 "nbformat": 4,
 "nbformat_minor": 5
}
